{
 "cells": [
  {
   "cell_type": "markdown",
   "metadata": {},
   "source": [
    "# Investigacion Corta 2\n",
    "\n",
    "Comparacion de 6 metodos supervisados de Machine Learning\n",
    "\n",
    "Cada metodo abajo esta numerado y explicado "
   ]
  },
  {
   "cell_type": "markdown",
   "metadata": {
    "slideshow": {
     "slide_type": "notes"
    }
   },
   "source": [
    "# ACERCA DEL DATASET\n",
    "\n",
    "HTRU es un conjunto de datos que describe una muestra de los candidatos de púlsares recopilados\n",
    "durante la Encuesta del Universo de Resolución de Tiempo Alto.\n",
    "\n",
    "Los púlsares son un tipo raro de estrella de neutrones que producen emisiones de radio \n",
    "detectables aquí en la Tierra. \n",
    "Son de considerable interés científico como sondas del espacio-tiempo, \n",
    "el medio inter-estelar y los estados de la materia.\n",
    "\n",
    "A medida que los púlsares giran, su haz de emisión recorre el cielo y, cuando esto cruza \n",
    "nuestra línea de visión, produce un patrón detectable de emisión de radio de banda ancha. \n",
    "Como los pulsares giran rápidamente, este patrón se repite periódicamente. Por lo tanto,\n",
    "la búsqueda de púlsares implica buscar señales de radio periódicas con radiotelescopios grandes.\n",
    "\n",
    "Cada púlsar produce un patrón de emisión ligeramente diferente, que varía ligeramente \n",
    "con cada rotación. Por lo tanto, una detección de señal potencial conocida como \"candidato\" \n",
    "se promedia a lo largo de muchas rotaciones del pulsar, según lo determinado por la longitud \n",
    "de una observación. En ausencia de información adicional, cada candidato podría potencialmente\n",
    "describir un pulsar real. Sin embargo, en la práctica, casi todas las detecciones son \n",
    "causadas por interferencias de radiofrecuencia (RFI) y ruido, lo que hace que las señales \n",
    "legítimas sean difíciles de encontrar.\n",
    "\n",
    "Las herramientas de aprendizaje automático ahora se están utilizando para etiquetar \n",
    "automáticamente los candidatos a pulsar para facilitar un análisis rápido. \n",
    "Los sistemas de clasificación en particular están siendo ampliamente adoptados. \n",
    "Aquí, los ejemplos legítimos de púlsares son una clase minoritaria positiva, \n",
    "y los ejemplos espurios la mayoría de clase negativa. \n",
    "\n",
    "Actualmente, las etiquetas de múltiples clases no están disponibles, \n",
    "dados los costos asociados con la anotación de datos.\n",
    "\n",
    "El conjunto de datos compartido aquí contiene 16,259 ejemplos falsos causados ​​por RFI / ruido\n",
    "y 1,639 ejemplos de púlsares reales. \n",
    "\n",
    "Todos estos ejemplos han sido verificados por anotadores humanos.\n",
    "\n",
    "Los candidatos se almacenan en filas separadas. Cada fila enumera las variables primero, \n",
    "y la etiqueta de la clase es la entrada final. \n",
    "\n",
    "Las etiquetas de clase utilizadas son 0 (negativa) y 1 (positiva).\n",
    "\n",
    "Tenga en cuenta que los datos no contienen información posicional u otros detalles astronómicos. \n",
    "\n",
    "Información del atributo:\n",
    "\n",
    "Cada candidato se describe mediante 8 variables continuas y una variable de clase única. Los primeros cuatro son estadísticas simples obtenidas del perfil de pulso integrado (perfil plegado). Esta es una matriz de variables continuas que describen una versión con resolución de longitud de la señal que se ha promediado tanto en tiempo como en frecuencia. Las cuatro variables restantes se obtienen de manera similar a partir de la curva DM-SNR. Estos se resumen a continuación:\n",
    "\n",
    "1. Mean of the integrated profile.\n",
    "2. Standard deviation of the integrated profile.\n",
    "3. Excess kurtosis of the integrated profile.\n",
    "4. Skewness of the integrated profile.\n",
    "5. Mean of the DM-SNR curve.\n",
    "6. Standard deviation of the DM-SNR curve.\n",
    "7. Excess kurtosis of the DM-SNR curve.\n",
    "8. Skewness of the DM-SNR curve.\n",
    "9. Class "
   ]
  },
  {
   "cell_type": "markdown",
   "metadata": {},
   "source": [
    "# Preprocesamiento de los Datos de Entrada"
   ]
  },
  {
   "cell_type": "code",
   "execution_count": 1,
   "metadata": {},
   "outputs": [],
   "source": [
    "# Importar las librerias\n",
    "\n",
    "import pandas as pd\n",
    "import numpy as np\n",
    "import math\n",
    "import operator\n",
    "import matplotlib.pyplot as plt\n",
    "import seaborn as sns\n",
    "\n"
   ]
  },
  {
   "cell_type": "code",
   "execution_count": 2,
   "metadata": {},
   "outputs": [],
   "source": [
    "#Importar los Datos\n",
    "\n",
    "df = pd.read_csv('HTRU.csv')"
   ]
  },
  {
   "cell_type": "code",
   "execution_count": 3,
   "metadata": {
    "scrolled": true
   },
   "outputs": [
    {
     "data": {
      "text/html": [
       "<div>\n",
       "<style scoped>\n",
       "    .dataframe tbody tr th:only-of-type {\n",
       "        vertical-align: middle;\n",
       "    }\n",
       "\n",
       "    .dataframe tbody tr th {\n",
       "        vertical-align: top;\n",
       "    }\n",
       "\n",
       "    .dataframe thead th {\n",
       "        text-align: right;\n",
       "    }\n",
       "</style>\n",
       "<table border=\"1\" class=\"dataframe\">\n",
       "  <thead>\n",
       "    <tr style=\"text-align: right;\">\n",
       "      <th></th>\n",
       "      <th>Mean of the integrated profile</th>\n",
       "      <th>Standard deviation of the integrated profile</th>\n",
       "      <th>Excess kurtosis of the integrated profile</th>\n",
       "      <th>Skewness of the integrated profile</th>\n",
       "      <th>Mean of the DM-SNR curve</th>\n",
       "      <th>Standard deviation of the DM-SNR curve</th>\n",
       "      <th>Excess kurtosis of the DM-SNR curve</th>\n",
       "      <th>Skewness of the DM-SNR curve</th>\n",
       "      <th>Class</th>\n",
       "    </tr>\n",
       "  </thead>\n",
       "  <tbody>\n",
       "    <tr>\n",
       "      <th>0</th>\n",
       "      <td>140.562500</td>\n",
       "      <td>55.683782</td>\n",
       "      <td>-0.234571</td>\n",
       "      <td>-0.699648</td>\n",
       "      <td>3.199833</td>\n",
       "      <td>19.110426</td>\n",
       "      <td>7.975532</td>\n",
       "      <td>74.242225</td>\n",
       "      <td>0</td>\n",
       "    </tr>\n",
       "    <tr>\n",
       "      <th>1</th>\n",
       "      <td>102.507812</td>\n",
       "      <td>58.882430</td>\n",
       "      <td>0.465318</td>\n",
       "      <td>-0.515088</td>\n",
       "      <td>1.677258</td>\n",
       "      <td>14.860146</td>\n",
       "      <td>10.576487</td>\n",
       "      <td>127.393580</td>\n",
       "      <td>0</td>\n",
       "    </tr>\n",
       "    <tr>\n",
       "      <th>2</th>\n",
       "      <td>103.015625</td>\n",
       "      <td>39.341649</td>\n",
       "      <td>0.323328</td>\n",
       "      <td>1.051164</td>\n",
       "      <td>3.121237</td>\n",
       "      <td>21.744669</td>\n",
       "      <td>7.735822</td>\n",
       "      <td>63.171909</td>\n",
       "      <td>0</td>\n",
       "    </tr>\n",
       "    <tr>\n",
       "      <th>3</th>\n",
       "      <td>136.750000</td>\n",
       "      <td>57.178449</td>\n",
       "      <td>-0.068415</td>\n",
       "      <td>-0.636238</td>\n",
       "      <td>3.642977</td>\n",
       "      <td>20.959280</td>\n",
       "      <td>6.896499</td>\n",
       "      <td>53.593661</td>\n",
       "      <td>0</td>\n",
       "    </tr>\n",
       "    <tr>\n",
       "      <th>4</th>\n",
       "      <td>88.726562</td>\n",
       "      <td>40.672225</td>\n",
       "      <td>0.600866</td>\n",
       "      <td>1.123492</td>\n",
       "      <td>1.178930</td>\n",
       "      <td>11.468720</td>\n",
       "      <td>14.269573</td>\n",
       "      <td>252.567306</td>\n",
       "      <td>0</td>\n",
       "    </tr>\n",
       "  </tbody>\n",
       "</table>\n",
       "</div>"
      ],
      "text/plain": [
       "   Mean of the integrated profile  \\\n",
       "0                      140.562500   \n",
       "1                      102.507812   \n",
       "2                      103.015625   \n",
       "3                      136.750000   \n",
       "4                       88.726562   \n",
       "\n",
       "   Standard deviation of the integrated profile  \\\n",
       "0                                     55.683782   \n",
       "1                                     58.882430   \n",
       "2                                     39.341649   \n",
       "3                                     57.178449   \n",
       "4                                     40.672225   \n",
       "\n",
       "   Excess kurtosis of the integrated profile  \\\n",
       "0                                  -0.234571   \n",
       "1                                   0.465318   \n",
       "2                                   0.323328   \n",
       "3                                  -0.068415   \n",
       "4                                   0.600866   \n",
       "\n",
       "   Skewness of the integrated profile  Mean of the DM-SNR curve  \\\n",
       "0                           -0.699648                  3.199833   \n",
       "1                           -0.515088                  1.677258   \n",
       "2                            1.051164                  3.121237   \n",
       "3                           -0.636238                  3.642977   \n",
       "4                            1.123492                  1.178930   \n",
       "\n",
       "   Standard deviation of the DM-SNR curve  \\\n",
       "0                               19.110426   \n",
       "1                               14.860146   \n",
       "2                               21.744669   \n",
       "3                               20.959280   \n",
       "4                               11.468720   \n",
       "\n",
       "   Excess kurtosis of the DM-SNR curve  Skewness of the DM-SNR curve  Class  \n",
       "0                             7.975532                     74.242225      0  \n",
       "1                            10.576487                    127.393580      0  \n",
       "2                             7.735822                     63.171909      0  \n",
       "3                             6.896499                     53.593661      0  \n",
       "4                            14.269573                    252.567306      0  "
      ]
     },
     "execution_count": 3,
     "metadata": {},
     "output_type": "execute_result"
    }
   ],
   "source": [
    "# Previsualizar las primeras 5 lineas del Dataset\n",
    "\n",
    "df.head()"
   ]
  },
  {
   "cell_type": "code",
   "execution_count": 4,
   "metadata": {},
   "outputs": [
    {
     "data": {
      "text/html": [
       "<div>\n",
       "<style scoped>\n",
       "    .dataframe tbody tr th:only-of-type {\n",
       "        vertical-align: middle;\n",
       "    }\n",
       "\n",
       "    .dataframe tbody tr th {\n",
       "        vertical-align: top;\n",
       "    }\n",
       "\n",
       "    .dataframe thead th {\n",
       "        text-align: right;\n",
       "    }\n",
       "</style>\n",
       "<table border=\"1\" class=\"dataframe\">\n",
       "  <thead>\n",
       "    <tr style=\"text-align: right;\">\n",
       "      <th></th>\n",
       "      <th>Mean of the integrated profile</th>\n",
       "      <th>Standard deviation of the integrated profile</th>\n",
       "      <th>Excess kurtosis of the integrated profile</th>\n",
       "      <th>Skewness of the integrated profile</th>\n",
       "      <th>Mean of the DM-SNR curve</th>\n",
       "      <th>Standard deviation of the DM-SNR curve</th>\n",
       "      <th>Excess kurtosis of the DM-SNR curve</th>\n",
       "      <th>Skewness of the DM-SNR curve</th>\n",
       "      <th>Class</th>\n",
       "    </tr>\n",
       "  </thead>\n",
       "  <tbody>\n",
       "    <tr>\n",
       "      <th>count</th>\n",
       "      <td>17898.000000</td>\n",
       "      <td>17898.000000</td>\n",
       "      <td>17898.000000</td>\n",
       "      <td>17898.000000</td>\n",
       "      <td>17898.000000</td>\n",
       "      <td>17898.000000</td>\n",
       "      <td>17898.000000</td>\n",
       "      <td>17898.000000</td>\n",
       "      <td>17898.000000</td>\n",
       "    </tr>\n",
       "    <tr>\n",
       "      <th>mean</th>\n",
       "      <td>111.079968</td>\n",
       "      <td>46.549532</td>\n",
       "      <td>0.477857</td>\n",
       "      <td>1.770279</td>\n",
       "      <td>12.614400</td>\n",
       "      <td>26.326515</td>\n",
       "      <td>8.303556</td>\n",
       "      <td>104.857709</td>\n",
       "      <td>0.091574</td>\n",
       "    </tr>\n",
       "    <tr>\n",
       "      <th>std</th>\n",
       "      <td>25.652935</td>\n",
       "      <td>6.843189</td>\n",
       "      <td>1.064040</td>\n",
       "      <td>6.167913</td>\n",
       "      <td>29.472897</td>\n",
       "      <td>19.470572</td>\n",
       "      <td>4.506092</td>\n",
       "      <td>106.514540</td>\n",
       "      <td>0.288432</td>\n",
       "    </tr>\n",
       "    <tr>\n",
       "      <th>min</th>\n",
       "      <td>5.812500</td>\n",
       "      <td>24.772042</td>\n",
       "      <td>-1.876011</td>\n",
       "      <td>-1.791886</td>\n",
       "      <td>0.213211</td>\n",
       "      <td>7.370432</td>\n",
       "      <td>-3.139270</td>\n",
       "      <td>-1.976976</td>\n",
       "      <td>0.000000</td>\n",
       "    </tr>\n",
       "    <tr>\n",
       "      <th>25%</th>\n",
       "      <td>100.929688</td>\n",
       "      <td>42.376018</td>\n",
       "      <td>0.027098</td>\n",
       "      <td>-0.188572</td>\n",
       "      <td>1.923077</td>\n",
       "      <td>14.437332</td>\n",
       "      <td>5.781506</td>\n",
       "      <td>34.960504</td>\n",
       "      <td>0.000000</td>\n",
       "    </tr>\n",
       "    <tr>\n",
       "      <th>50%</th>\n",
       "      <td>115.078125</td>\n",
       "      <td>46.947479</td>\n",
       "      <td>0.223240</td>\n",
       "      <td>0.198710</td>\n",
       "      <td>2.801839</td>\n",
       "      <td>18.461316</td>\n",
       "      <td>8.433515</td>\n",
       "      <td>83.064556</td>\n",
       "      <td>0.000000</td>\n",
       "    </tr>\n",
       "    <tr>\n",
       "      <th>75%</th>\n",
       "      <td>127.085938</td>\n",
       "      <td>51.023202</td>\n",
       "      <td>0.473325</td>\n",
       "      <td>0.927783</td>\n",
       "      <td>5.464256</td>\n",
       "      <td>28.428104</td>\n",
       "      <td>10.702959</td>\n",
       "      <td>139.309331</td>\n",
       "      <td>0.000000</td>\n",
       "    </tr>\n",
       "    <tr>\n",
       "      <th>max</th>\n",
       "      <td>192.617188</td>\n",
       "      <td>98.778911</td>\n",
       "      <td>8.069522</td>\n",
       "      <td>68.101622</td>\n",
       "      <td>223.392140</td>\n",
       "      <td>110.642211</td>\n",
       "      <td>34.539844</td>\n",
       "      <td>1191.000837</td>\n",
       "      <td>1.000000</td>\n",
       "    </tr>\n",
       "  </tbody>\n",
       "</table>\n",
       "</div>"
      ],
      "text/plain": [
       "       Mean of the integrated profile  \\\n",
       "count                    17898.000000   \n",
       "mean                       111.079968   \n",
       "std                         25.652935   \n",
       "min                          5.812500   \n",
       "25%                        100.929688   \n",
       "50%                        115.078125   \n",
       "75%                        127.085938   \n",
       "max                        192.617188   \n",
       "\n",
       "       Standard deviation of the integrated profile  \\\n",
       "count                                  17898.000000   \n",
       "mean                                      46.549532   \n",
       "std                                        6.843189   \n",
       "min                                       24.772042   \n",
       "25%                                       42.376018   \n",
       "50%                                       46.947479   \n",
       "75%                                       51.023202   \n",
       "max                                       98.778911   \n",
       "\n",
       "       Excess kurtosis of the integrated profile  \\\n",
       "count                               17898.000000   \n",
       "mean                                    0.477857   \n",
       "std                                     1.064040   \n",
       "min                                    -1.876011   \n",
       "25%                                     0.027098   \n",
       "50%                                     0.223240   \n",
       "75%                                     0.473325   \n",
       "max                                     8.069522   \n",
       "\n",
       "       Skewness of the integrated profile  Mean of the DM-SNR curve  \\\n",
       "count                        17898.000000              17898.000000   \n",
       "mean                             1.770279                 12.614400   \n",
       "std                              6.167913                 29.472897   \n",
       "min                             -1.791886                  0.213211   \n",
       "25%                             -0.188572                  1.923077   \n",
       "50%                              0.198710                  2.801839   \n",
       "75%                              0.927783                  5.464256   \n",
       "max                             68.101622                223.392140   \n",
       "\n",
       "       Standard deviation of the DM-SNR curve  \\\n",
       "count                            17898.000000   \n",
       "mean                                26.326515   \n",
       "std                                 19.470572   \n",
       "min                                  7.370432   \n",
       "25%                                 14.437332   \n",
       "50%                                 18.461316   \n",
       "75%                                 28.428104   \n",
       "max                                110.642211   \n",
       "\n",
       "       Excess kurtosis of the DM-SNR curve  Skewness of the DM-SNR curve  \\\n",
       "count                         17898.000000                  17898.000000   \n",
       "mean                              8.303556                    104.857709   \n",
       "std                               4.506092                    106.514540   \n",
       "min                              -3.139270                     -1.976976   \n",
       "25%                               5.781506                     34.960504   \n",
       "50%                               8.433515                     83.064556   \n",
       "75%                              10.702959                    139.309331   \n",
       "max                              34.539844                   1191.000837   \n",
       "\n",
       "              Class  \n",
       "count  17898.000000  \n",
       "mean       0.091574  \n",
       "std        0.288432  \n",
       "min        0.000000  \n",
       "25%        0.000000  \n",
       "50%        0.000000  \n",
       "75%        0.000000  \n",
       "max        1.000000  "
      ]
     },
     "execution_count": 4,
     "metadata": {},
     "output_type": "execute_result"
    }
   ],
   "source": [
    "# Estadisticas numericas del Dataset\n",
    "\n",
    "df.describe()"
   ]
  },
  {
   "cell_type": "code",
   "execution_count": 5,
   "metadata": {},
   "outputs": [
    {
     "data": {
      "text/plain": [
       "(17898, 9)"
      ]
     },
     "execution_count": 5,
     "metadata": {},
     "output_type": "execute_result"
    }
   ],
   "source": [
    "#Mostrar numero de filas y columnas del Dataset\n",
    "df.shape"
   ]
  },
  {
   "cell_type": "code",
   "execution_count": 6,
   "metadata": {},
   "outputs": [],
   "source": [
    "# Creacion de Lista solo de Atributos\n",
    "\n",
    "features = ['Mean of the integrated profile', 'Standard deviation of the integrated profile', 'Excess kurtosis of the integrated profile', 'Skewness of the integrated profile', 'Mean of the DM-SNR curve',\n",
    "'Standard deviation of the DM-SNR curve', 'Excess kurtosis of the DM-SNR curve', 'Skewness of the DM-SNR curve']\n",
    "\n",
    "\n"
   ]
  },
  {
   "cell_type": "code",
   "execution_count": 7,
   "metadata": {},
   "outputs": [],
   "source": [
    "# Separar los atributos de las clases\n",
    "\n",
    "input_features = df.loc[:,features].values\n",
    "output_class = df.loc[:,['Class']].values\n",
    "\n",
    "# Reducir la salidad a una sola columna\n",
    "output_class = output_class.ravel()"
   ]
  },
  {
   "cell_type": "code",
   "execution_count": 8,
   "metadata": {},
   "outputs": [],
   "source": [
    "# Separar los datos en datos de prueba y datos de entrenamiento\n",
    "# test_size=0.25 indica que del archivo original tomaremos el 25% del archivo que sera creado\n",
    "# como el archivo de prueba\n",
    "\n",
    "from sklearn.model_selection import train_test_split\n",
    "x_train, x_test, y_train, y_test = train_test_split(input_features,output_class, test_size=0.25, random_state=60)"
   ]
  },
  {
   "cell_type": "markdown",
   "metadata": {},
   "source": [
    "# 1. KNN (K Nearest Neighbours)\n",
    "\n",
    "La idea es realmente sencilla: el algoritmo clasifica cada dato nuevo en el grupo que corresponda, según tenga k vecinos más cerca de un grupo o de otro. Es decir, calcula la distancia del elemento nuevo a cada uno de los existentes, y ordena dichas distancias de menor a mayor para ir seleccionando el grupo al que pertenecer. Este grupo será, por tanto, el de mayor frecuencia con menores distancias.\n",
    "\n",
    "El K-NN es un algoritmo de aprendizaje supervisado, es decir, que a partir de un juego de datos inicial su objetivo será el de clasificar correctamente todas las instancias nuevas. El juego de datos típico de este tipo de algoritmos está formado por varios atributos descriptivos y un solo atributo objetivo (también llamado clase)[5]\n",
    "\n",
    "Pseudo Code de KNN\n",
    "\n",
    "Los pasos para aplicar el codigo KNN los podemos describir como siguen:\n",
    "\n",
    "1. Cargar los datos.\n",
    "2. Inicializar el valor de k\n",
    "3. Para obtener la clase predecida, repita de 1 a la cantidad total de puntos de datos de entrenamiento\n",
    "4. Calcule la distancia entre los datos de prueba y cada fila de datos de entrenamiento. \n",
    "    Aquí utilizaremos la distancia euclidiana como nuestra métrica de distancia, \n",
    "    ya que es el método más popular. Las otras métricas que se pueden utilizar son \n",
    "    Chebyshev, coseno, etc.\n",
    "5. Ordene las distancias calculadas en orden ascendente en función de los valores de distancia\n",
    "6. Obtener las filas k superiores de la matriz ordenada\n",
    "7. Consigue la clase más frecuente de estas filas.\n",
    "8. Devuelve la clase predecida\n"
   ]
  },
  {
   "cell_type": "code",
   "execution_count": 9,
   "metadata": {},
   "outputs": [
    {
     "name": "stdout",
     "output_type": "stream",
     "text": [
      "Training Score: 0.981226\n",
      "Test Score:  0.968939\n"
     ]
    }
   ],
   "source": [
    "from sklearn import neighbors\n",
    "# Generacion del KNN\n",
    "knn = neighbors.KNeighborsClassifier(n_neighbors = 3)\n",
    "\n",
    "# Crear Modelo\n",
    "knn_modelo = knn.fit(x_train, y_train)\n",
    "\n",
    "# Imprimir Resultados de exactitud\n",
    "print('Training Score: %f' % knn_modelo.score(x_train,y_train))\n",
    "print('Test Score:  %f' % knn_modelo.score(x_test, y_test))\n",
    "\n"
   ]
  },
  {
   "cell_type": "code",
   "execution_count": 10,
   "metadata": {},
   "outputs": [
    {
     "name": "stdout",
     "output_type": "stream",
     "text": [
      "              precision    recall  f1-score   support\n",
      "\n",
      "           0       0.99      0.99      0.99     12202\n",
      "           1       0.94      0.85      0.89      1221\n",
      "\n",
      "   micro avg       0.98      0.98      0.98     13423\n",
      "   macro avg       0.96      0.92      0.94     13423\n",
      "weighted avg       0.98      0.98      0.98     13423\n",
      "\n",
      "              precision    recall  f1-score   support\n",
      "\n",
      "           0       0.98      0.99      0.98      4057\n",
      "           1       0.89      0.77      0.82       418\n",
      "\n",
      "   micro avg       0.97      0.97      0.97      4475\n",
      "   macro avg       0.93      0.88      0.90      4475\n",
      "weighted avg       0.97      0.97      0.97      4475\n",
      "\n"
     ]
    }
   ],
   "source": [
    "from sklearn.metrics import classification_report\n",
    "\n",
    "y_true, y_pred = y_train, knn_modelo.predict(x_train)\n",
    "print(classification_report(y_true, y_pred))\n",
    "\n",
    "y_true, y_pred = y_test, knn_modelo.predict(x_test)\n",
    "print(classification_report(y_true, y_pred))"
   ]
  },
  {
   "cell_type": "code",
   "execution_count": 12,
   "metadata": {},
   "outputs": [],
   "source": [
    "from sklearn.neighbors import KNeighborsClassifier\n",
    "exactitud_training = []\n",
    "exactitud_test = []\n",
    "k_range = range(1, 40)\n",
    "for n_neighbors in k_range:\n",
    "\n",
    "    clf = KNeighborsClassifier(n_neighbors=n_neighbors)\n",
    "    clf.fit(x_train, y_train)\n",
    "    exactitud_training.append(clf.score(x_train, y_train))\n",
    "    exactitud_test.append(clf.score(x_test, y_test))\n"
   ]
  },
  {
   "cell_type": "code",
   "execution_count": 13,
   "metadata": {},
   "outputs": [
    {
     "data": {
      "text/plain": [
       "Text(0, 0.5, 'Exactitud del Testing set')"
      ]
     },
     "execution_count": 13,
     "metadata": {},
     "output_type": "execute_result"
    },
    {
     "data": {
      "image/png": "[encoded data removed]",
      "text/plain": [
       "<Figure size 432x288 with 1 Axes>"
      ]
     },
     "metadata": {
      "needs_background": "light"
     },
     "output_type": "display_data"
    }
   ],
   "source": [
    "%matplotlib inline\n",
    "\n",
    "# Graficamos la relacion entre el numero K y la exactitud de testing\n",
    "# plt.plot(x_axis, y_axis)\n",
    "plt.plot(k_range, exactitud_test)\n",
    "plt.xlabel('Valor de K para el modelo knn')\n",
    "plt.ylabel('Exactitud del Testing set')"
   ]
  },
  {
   "cell_type": "code",
   "execution_count": 14,
   "metadata": {},
   "outputs": [
    {
     "data": {
      "text/plain": [
       "Text(0, 0.5, 'Exactitud del Training set')"
      ]
     },
     "execution_count": 14,
     "metadata": {},
     "output_type": "execute_result"
    },
    {
     "data": {
      "image/png": "[encoded data removed]",
      "text/plain": [
       "<Figure size 432x288 with 1 Axes>"
      ]
     },
     "metadata": {
      "needs_background": "light"
     },
     "output_type": "display_data"
    }
   ],
   "source": [
    "%matplotlib inline\n",
    "\n",
    "# Graficamos la relacion entre el numero K y la exactitud de training\n",
    "# plt.plot(x_axis, y_axis)\n",
    "plt.plot(k_range, exactitud_training)\n",
    "plt.xlabel('Valor de K para el modelo knn')\n",
    "plt.ylabel('Exactitud del Training set')"
   ]
  },
  {
   "cell_type": "code",
   "execution_count": 15,
   "metadata": {},
   "outputs": [
    {
     "data": {
      "text/plain": [
       "<matplotlib.legend.Legend at 0x7f90e594f5c0>"
      ]
     },
     "execution_count": 15,
     "metadata": {},
     "output_type": "execute_result"
    },
    {
     "data": {
      "image/png": "[encoded data removed]",
      "text/plain": [
       "<Figure size 432x288 with 1 Axes>"
      ]
     },
     "metadata": {
      "needs_background": "light"
     },
     "output_type": "display_data"
    }
   ],
   "source": [
    "# Graficar Resultados\n",
    "plt.plot(k_range, exactitud_training, label=\"Exactitud del training set\", color='yellow')\n",
    "plt.plot(k_range, exactitud_test, label=\"Exactitud del test set\", color='red')\n",
    "plt.ylabel(\"Exactitud\")\n",
    "plt.xlabel(\"n_neighbors\")\n",
    "plt.title(\"training VRS test sets\")\n",
    "plt.legend()\n",
    "\n"
   ]
  },
  {
   "attachments": {
    "image.png": {
     "image/png": "[encoded data removed]"
    }
   },
   "cell_type": "markdown",
   "metadata": {},
   "source": [
    "# SVM (Máquinas de vectores de soporte)\n",
    "\n",
    "Estos métodos están propiamente relacionados con problemas de clasificación y regresión. Dado un conjunto de ejemplos de entrenamiento (de muestras) podemos etiquetar las clases y entrenar una SVM para construir un modelo que prediga la clase de una nueva muestra. Intuitivamente, una SVM es un modelo que representa a los puntos de muestra en el espacio, separando las clases a 2 espacios lo más amplios posibles mediante un hiperplano de separación definido como el vector entre los 2 puntos, de las 2 clases, más cercanos al que se llama vector soporte [2]\n",
    "\n",
    "![image.png](attachment:image.png)\n",
    "\n",
    "La Máquina de vectores de soporte se puede ver como máquinas de Kernel. Como resultado, puede cambiar su comportamiento utilizando una función de kernel diferente [4]\n",
    "\n",
    "Las funciones más populares del kernel son:\n",
    "\n",
    "    the linear kernel\n",
    "    the polynomial kernel\n",
    "    the RBF (Gaussian) kernel\n",
    "    the string kernel\n"
   ]
  },
  {
   "cell_type": "code",
   "execution_count": 25,
   "metadata": {},
   "outputs": [
    {
     "name": "stdout",
     "output_type": "stream",
     "text": [
      "[[4038   19]\n",
      " [  86  332]]\n",
      "              precision    recall  f1-score   support\n",
      "\n",
      "           0       0.98      1.00      0.99      4057\n",
      "           1       0.95      0.79      0.86       418\n",
      "\n",
      "   micro avg       0.98      0.98      0.98      4475\n",
      "   macro avg       0.96      0.89      0.93      4475\n",
      "weighted avg       0.98      0.98      0.98      4475\n",
      "\n",
      "Exactitud: 0.976536312849162\n"
     ]
    }
   ],
   "source": [
    "#Linear Kernel\n",
    "from sklearn.svm import SVC\n",
    "from sklearn.metrics import classification_report, confusion_matrix\n",
    "from sklearn import metrics\n",
    "\n",
    "svclassifier = SVC(kernel='linear')\n",
    "svclassifier.fit(x_train, y_train)\n",
    "y_pred = svclassifier.predict(x_test)\n",
    "\n",
    "print(confusion_matrix(y_test, y_pred))\n",
    "print(classification_report(y_test, y_pred))\n",
    "print(\"Exactitud:\",metrics.accuracy_score(y_test, y_pred))"
   ]
  },
  {
   "cell_type": "markdown",
   "metadata": {},
   "source": [
    "# 3. DECISION TREE (ARBOLES DE DECISION)"
   ]
  },
  {
   "cell_type": "markdown",
   "metadata": {},
   "source": [
    "Usando la libreria sklearn.tree, podemos usar DecisionTreeClassifier para crear nuestro arbol de decision.\n",
    "Podemos usar todos los parametros y atributos a continuacion:\n",
    "\n",
    "DecisionTreeClassifier(criterion=’gini’, splitter=’best’, max_depth=None, min_samples_split=2, min_samples_leaf=1, min_weight_fraction_leaf=0.0, max_features=None, random_state=None, max_leaf_nodes=None, min_impurity_decrease=0.0, min_impurity_split=None, class_weight=None, presort=False)\n",
    "\n",
    "Una descripcion de estos parametros y atributos puede ser encontrada en: https://scikit-learn.org/stable/modules/generated/sklearn.tree.DecisionTreeClassifier.html"
   ]
  },
  {
   "cell_type": "code",
   "execution_count": 16,
   "metadata": {},
   "outputs": [
    {
     "name": "stdout",
     "output_type": "stream",
     "text": [
      "Training Score: 0.980555762\n",
      "Test Score: 0.976536313\n"
     ]
    }
   ],
   "source": [
    "#En este ejemplo usaremos los parametros max_depth y random_state\n",
    "from sklearn.tree import DecisionTreeClassifier\n",
    "\n",
    "decision_tree = DecisionTreeClassifier(max_depth=3, random_state=2)\n",
    "decision_tree.fit(x_train, y_train)\n",
    "\n",
    "print(\"Training Score: {:.9f}\".format(decision_tree.score(x_train,y_train)))\n",
    "print(\"Test Score: {:.9f}\".format(decision_tree.score(x_test,y_test)))"
   ]
  },
  {
   "cell_type": "code",
   "execution_count": 22,
   "metadata": {},
   "outputs": [
    {
     "data": {
      "image/svg+xml": [
       "<?xml version=\"1.0\" encoding=\"UTF-8\" standalone=\"no\"?>\n",
       "<!DOCTYPE svg PUBLIC \"-//W3C//DTD SVG 1.1//EN\"\n",
       " \"http://www.w3.org/Graphics/SVG/1.1/DTD/svg11.dtd\">\n",
       "<!-- Generated by graphviz version 2.40.1 (20161225.0304)\n",
       " -->\n",
       "<!-- Title: Tree Pages: 1 -->\n",
       "<svg width=\"1189pt\" height=\"433pt\"\n",
       " viewBox=\"0.00 0.00 1189.00 433.00\" xmlns=\"http://www.w3.org/2000/svg\" xmlns:xlink=\"http://www.w3.org/1999/xlink\">\n",
       "<g id=\"graph0\" class=\"graph\" transform=\"scale(1 1) rotate(0) translate(4 429)\">\n",
       "<title>Tree</title>\n",
       "<polygon fill=\"#ffffff\" stroke=\"transparent\" points=\"-4,4 -4,-429 1185,-429 1185,4 -4,4\"/>\n",
       "<!-- 0 -->\n",
       "<g id=\"node1\" class=\"node\">\n",
       "<title>0</title>\n",
       "<polygon fill=\"none\" stroke=\"#000000\" points=\"752,-425 464,-425 464,-342 752,-342 752,-425\"/>\n",
       "<text text-anchor=\"middle\" x=\"608\" y=\"-409.8\" font-family=\"Times,serif\" font-size=\"14.00\" fill=\"#000000\">Excess kurtosis of the integrated profile &lt;= 1.184</text>\n",
       "<text text-anchor=\"middle\" x=\"608\" y=\"-394.8\" font-family=\"Times,serif\" font-size=\"14.00\" fill=\"#000000\">gini = 0.165</text>\n",
       "<text text-anchor=\"middle\" x=\"608\" y=\"-379.8\" font-family=\"Times,serif\" font-size=\"14.00\" fill=\"#000000\">samples = 13423</text>\n",
       "<text text-anchor=\"middle\" x=\"608\" y=\"-364.8\" font-family=\"Times,serif\" font-size=\"14.00\" fill=\"#000000\">value = [12202, 1221]</text>\n",
       "<text text-anchor=\"middle\" x=\"608\" y=\"-349.8\" font-family=\"Times,serif\" font-size=\"14.00\" fill=\"#000000\">class = No Pulsar</text>\n",
       "</g>\n",
       "<!-- 1 -->\n",
       "<g id=\"node2\" class=\"node\">\n",
       "<title>1</title>\n",
       "<polygon fill=\"none\" stroke=\"#000000\" points=\"599,-306 311,-306 311,-223 599,-223 599,-306\"/>\n",
       "<text text-anchor=\"middle\" x=\"455\" y=\"-290.8\" font-family=\"Times,serif\" font-size=\"14.00\" fill=\"#000000\">Excess kurtosis of the integrated profile &lt;= 0.787</text>\n",
       "<text text-anchor=\"middle\" x=\"455\" y=\"-275.8\" font-family=\"Times,serif\" font-size=\"14.00\" fill=\"#000000\">gini = 0.032</text>\n",
       "<text text-anchor=\"middle\" x=\"455\" y=\"-260.8\" font-family=\"Times,serif\" font-size=\"14.00\" fill=\"#000000\">samples = 12321</text>\n",
       "<text text-anchor=\"middle\" x=\"455\" y=\"-245.8\" font-family=\"Times,serif\" font-size=\"14.00\" fill=\"#000000\">value = [12118, 203]</text>\n",
       "<text text-anchor=\"middle\" x=\"455\" y=\"-230.8\" font-family=\"Times,serif\" font-size=\"14.00\" fill=\"#000000\">class = No Pulsar</text>\n",
       "</g>\n",
       "<!-- 0&#45;&gt;1 -->\n",
       "<g id=\"edge1\" class=\"edge\">\n",
       "<title>0&#45;&gt;1</title>\n",
       "<path fill=\"none\" stroke=\"#000000\" d=\"M554.488,-341.8796C542.2588,-332.368 529.1656,-322.1843 516.6268,-312.432\"/>\n",
       "<polygon fill=\"#000000\" stroke=\"#000000\" points=\"518.5241,-309.4736 508.4818,-306.0969 514.2265,-314.9991 518.5241,-309.4736\"/>\n",
       "<text text-anchor=\"middle\" x=\"510.9625\" y=\"-322.2425\" font-family=\"Times,serif\" font-size=\"14.00\" fill=\"#000000\">True</text>\n",
       "</g>\n",
       "<!-- 8 -->\n",
       "<g id=\"node9\" class=\"node\">\n",
       "<title>8</title>\n",
       "<polygon fill=\"none\" stroke=\"#000000\" points=\"905,-306 617,-306 617,-223 905,-223 905,-306\"/>\n",
       "<text text-anchor=\"middle\" x=\"761\" y=\"-290.8\" font-family=\"Times,serif\" font-size=\"14.00\" fill=\"#000000\">Excess kurtosis of the integrated profile &lt;= 1.538</text>\n",
       "<text text-anchor=\"middle\" x=\"761\" y=\"-275.8\" font-family=\"Times,serif\" font-size=\"14.00\" fill=\"#000000\">gini = 0.141</text>\n",
       "<text text-anchor=\"middle\" x=\"761\" y=\"-260.8\" font-family=\"Times,serif\" font-size=\"14.00\" fill=\"#000000\">samples = 1102</text>\n",
       "<text text-anchor=\"middle\" x=\"761\" y=\"-245.8\" font-family=\"Times,serif\" font-size=\"14.00\" fill=\"#000000\">value = [84, 1018]</text>\n",
       "<text text-anchor=\"middle\" x=\"761\" y=\"-230.8\" font-family=\"Times,serif\" font-size=\"14.00\" fill=\"#000000\">class = Pulsar</text>\n",
       "</g>\n",
       "<!-- 0&#45;&gt;8 -->\n",
       "<g id=\"edge8\" class=\"edge\">\n",
       "<title>0&#45;&gt;8</title>\n",
       "<path fill=\"none\" stroke=\"#000000\" d=\"M661.512,-341.8796C673.7412,-332.368 686.8344,-322.1843 699.3732,-312.432\"/>\n",
       "<polygon fill=\"#000000\" stroke=\"#000000\" points=\"701.7735,-314.9991 707.5182,-306.0969 697.4759,-309.4736 701.7735,-314.9991\"/>\n",
       "<text text-anchor=\"middle\" x=\"705.0375\" y=\"-322.2425\" font-family=\"Times,serif\" font-size=\"14.00\" fill=\"#000000\">False</text>\n",
       "</g>\n",
       "<!-- 2 -->\n",
       "<g id=\"node3\" class=\"node\">\n",
       "<title>2</title>\n",
       "<polygon fill=\"none\" stroke=\"#000000\" points=\"288,-187 0,-187 0,-104 288,-104 288,-187\"/>\n",
       "<text text-anchor=\"middle\" x=\"144\" y=\"-171.8\" font-family=\"Times,serif\" font-size=\"14.00\" fill=\"#000000\">Excess kurtosis of the integrated profile &lt;= 0.387</text>\n",
       "<text text-anchor=\"middle\" x=\"144\" y=\"-156.8\" font-family=\"Times,serif\" font-size=\"14.00\" fill=\"#000000\">gini = 0.021</text>\n",
       "<text text-anchor=\"middle\" x=\"144\" y=\"-141.8\" font-family=\"Times,serif\" font-size=\"14.00\" fill=\"#000000\">samples = 11868</text>\n",
       "<text text-anchor=\"middle\" x=\"144\" y=\"-126.8\" font-family=\"Times,serif\" font-size=\"14.00\" fill=\"#000000\">value = [11741, 127]</text>\n",
       "<text text-anchor=\"middle\" x=\"144\" y=\"-111.8\" font-family=\"Times,serif\" font-size=\"14.00\" fill=\"#000000\">class = No Pulsar</text>\n",
       "</g>\n",
       "<!-- 1&#45;&gt;2 -->\n",
       "<g id=\"edge2\" class=\"edge\">\n",
       "<title>1&#45;&gt;2</title>\n",
       "<path fill=\"none\" stroke=\"#000000\" d=\"M346.2273,-222.8796C319.1201,-212.5074 289.9245,-201.3361 262.3794,-190.7963\"/>\n",
       "<polygon fill=\"#000000\" stroke=\"#000000\" points=\"263.3017,-187.4018 252.7113,-187.0969 260.8001,-193.9395 263.3017,-187.4018\"/>\n",
       "</g>\n",
       "<!-- 5 -->\n",
       "<g id=\"node6\" class=\"node\">\n",
       "<title>5</title>\n",
       "<polygon fill=\"none\" stroke=\"#000000\" points=\"612,-187 306,-187 306,-104 612,-104 612,-187\"/>\n",
       "<text text-anchor=\"middle\" x=\"459\" y=\"-171.8\" font-family=\"Times,serif\" font-size=\"14.00\" fill=\"#000000\">Standard deviation of the DM&#45;SNR curve &lt;= 38.283</text>\n",
       "<text text-anchor=\"middle\" x=\"459\" y=\"-156.8\" font-family=\"Times,serif\" font-size=\"14.00\" fill=\"#000000\">gini = 0.279</text>\n",
       "<text text-anchor=\"middle\" x=\"459\" y=\"-141.8\" font-family=\"Times,serif\" font-size=\"14.00\" fill=\"#000000\">samples = 453</text>\n",
       "<text text-anchor=\"middle\" x=\"459\" y=\"-126.8\" font-family=\"Times,serif\" font-size=\"14.00\" fill=\"#000000\">value = [377, 76]</text>\n",
       "<text text-anchor=\"middle\" x=\"459\" y=\"-111.8\" font-family=\"Times,serif\" font-size=\"14.00\" fill=\"#000000\">class = No Pulsar</text>\n",
       "</g>\n",
       "<!-- 1&#45;&gt;5 -->\n",
       "<g id=\"edge5\" class=\"edge\">\n",
       "<title>1&#45;&gt;5</title>\n",
       "<path fill=\"none\" stroke=\"#000000\" d=\"M456.399,-222.8796C456.6745,-214.6838 456.9668,-205.9891 457.2521,-197.5013\"/>\n",
       "<polygon fill=\"#000000\" stroke=\"#000000\" points=\"460.757,-197.41 457.595,-187.2981 453.761,-197.1748 460.757,-197.41\"/>\n",
       "</g>\n",
       "<!-- 3 -->\n",
       "<g id=\"node4\" class=\"node\">\n",
       "<title>3</title>\n",
       "<polygon fill=\"none\" stroke=\"#000000\" points=\"185.5,-68 66.5,-68 66.5,0 185.5,0 185.5,-68\"/>\n",
       "<text text-anchor=\"middle\" x=\"126\" y=\"-52.8\" font-family=\"Times,serif\" font-size=\"14.00\" fill=\"#000000\">gini = 0.009</text>\n",
       "<text text-anchor=\"middle\" x=\"126\" y=\"-37.8\" font-family=\"Times,serif\" font-size=\"14.00\" fill=\"#000000\">samples = 9128</text>\n",
       "<text text-anchor=\"middle\" x=\"126\" y=\"-22.8\" font-family=\"Times,serif\" font-size=\"14.00\" fill=\"#000000\">value = [9087, 41]</text>\n",
       "<text text-anchor=\"middle\" x=\"126\" y=\"-7.8\" font-family=\"Times,serif\" font-size=\"14.00\" fill=\"#000000\">class = No Pulsar</text>\n",
       "</g>\n",
       "<!-- 2&#45;&gt;3 -->\n",
       "<g id=\"edge3\" class=\"edge\">\n",
       "<title>2&#45;&gt;3</title>\n",
       "<path fill=\"none\" stroke=\"#000000\" d=\"M137.2975,-103.9815C135.9473,-95.618 134.5232,-86.7965 133.1582,-78.3409\"/>\n",
       "<polygon fill=\"#000000\" stroke=\"#000000\" points=\"136.5804,-77.578 131.5314,-68.2637 129.6699,-78.6937 136.5804,-77.578\"/>\n",
       "</g>\n",
       "<!-- 4 -->\n",
       "<g id=\"node5\" class=\"node\">\n",
       "<title>4</title>\n",
       "<polygon fill=\"none\" stroke=\"#000000\" points=\"322.5,-68 203.5,-68 203.5,0 322.5,0 322.5,-68\"/>\n",
       "<text text-anchor=\"middle\" x=\"263\" y=\"-52.8\" font-family=\"Times,serif\" font-size=\"14.00\" fill=\"#000000\">gini = 0.061</text>\n",
       "<text text-anchor=\"middle\" x=\"263\" y=\"-37.8\" font-family=\"Times,serif\" font-size=\"14.00\" fill=\"#000000\">samples = 2740</text>\n",
       "<text text-anchor=\"middle\" x=\"263\" y=\"-22.8\" font-family=\"Times,serif\" font-size=\"14.00\" fill=\"#000000\">value = [2654, 86]</text>\n",
       "<text text-anchor=\"middle\" x=\"263\" y=\"-7.8\" font-family=\"Times,serif\" font-size=\"14.00\" fill=\"#000000\">class = No Pulsar</text>\n",
       "</g>\n",
       "<!-- 2&#45;&gt;4 -->\n",
       "<g id=\"edge4\" class=\"edge\">\n",
       "<title>2&#45;&gt;4</title>\n",
       "<path fill=\"none\" stroke=\"#000000\" d=\"M188.3112,-103.9815C198.3163,-94.607 208.9354,-84.6572 218.9304,-75.2921\"/>\n",
       "<polygon fill=\"#000000\" stroke=\"#000000\" points=\"221.5274,-77.6551 226.4316,-68.2637 216.7412,-72.547 221.5274,-77.6551\"/>\n",
       "</g>\n",
       "<!-- 6 -->\n",
       "<g id=\"node7\" class=\"node\">\n",
       "<title>6</title>\n",
       "<polygon fill=\"none\" stroke=\"#000000\" points=\"484.5,-68 371.5,-68 371.5,0 484.5,0 484.5,-68\"/>\n",
       "<text text-anchor=\"middle\" x=\"428\" y=\"-52.8\" font-family=\"Times,serif\" font-size=\"14.00\" fill=\"#000000\">gini = 0.129</text>\n",
       "<text text-anchor=\"middle\" x=\"428\" y=\"-37.8\" font-family=\"Times,serif\" font-size=\"14.00\" fill=\"#000000\">samples = 362</text>\n",
       "<text text-anchor=\"middle\" x=\"428\" y=\"-22.8\" font-family=\"Times,serif\" font-size=\"14.00\" fill=\"#000000\">value = [337, 25]</text>\n",
       "<text text-anchor=\"middle\" x=\"428\" y=\"-7.8\" font-family=\"Times,serif\" font-size=\"14.00\" fill=\"#000000\">class = No Pulsar</text>\n",
       "</g>\n",
       "<!-- 5&#45;&gt;6 -->\n",
       "<g id=\"edge6\" class=\"edge\">\n",
       "<title>5&#45;&gt;6</title>\n",
       "<path fill=\"none\" stroke=\"#000000\" d=\"M447.4567,-103.9815C445.1059,-95.5261 442.6249,-86.6026 440.2505,-78.0623\"/>\n",
       "<polygon fill=\"#000000\" stroke=\"#000000\" points=\"443.5771,-76.9607 437.5262,-68.2637 436.8329,-78.8358 443.5771,-76.9607\"/>\n",
       "</g>\n",
       "<!-- 7 -->\n",
       "<g id=\"node8\" class=\"node\">\n",
       "<title>7</title>\n",
       "<polygon fill=\"none\" stroke=\"#000000\" points=\"607.5,-68 502.5,-68 502.5,0 607.5,0 607.5,-68\"/>\n",
       "<text text-anchor=\"middle\" x=\"555\" y=\"-52.8\" font-family=\"Times,serif\" font-size=\"14.00\" fill=\"#000000\">gini = 0.493</text>\n",
       "<text text-anchor=\"middle\" x=\"555\" y=\"-37.8\" font-family=\"Times,serif\" font-size=\"14.00\" fill=\"#000000\">samples = 91</text>\n",
       "<text text-anchor=\"middle\" x=\"555\" y=\"-22.8\" font-family=\"Times,serif\" font-size=\"14.00\" fill=\"#000000\">value = [40, 51]</text>\n",
       "<text text-anchor=\"middle\" x=\"555\" y=\"-7.8\" font-family=\"Times,serif\" font-size=\"14.00\" fill=\"#000000\">class = Pulsar</text>\n",
       "</g>\n",
       "<!-- 5&#45;&gt;7 -->\n",
       "<g id=\"edge7\" class=\"edge\">\n",
       "<title>5&#45;&gt;7</title>\n",
       "<path fill=\"none\" stroke=\"#000000\" d=\"M494.7469,-103.9815C502.6599,-94.7908 511.0491,-85.0472 518.9732,-75.8436\"/>\n",
       "<polygon fill=\"#000000\" stroke=\"#000000\" points=\"521.6271,-78.1255 525.4994,-68.2637 516.3224,-73.5582 521.6271,-78.1255\"/>\n",
       "</g>\n",
       "<!-- 9 -->\n",
       "<g id=\"node10\" class=\"node\">\n",
       "<title>9</title>\n",
       "<polygon fill=\"none\" stroke=\"#000000\" points=\"879,-187 637,-187 637,-104 879,-104 879,-187\"/>\n",
       "<text text-anchor=\"middle\" x=\"758\" y=\"-171.8\" font-family=\"Times,serif\" font-size=\"14.00\" fill=\"#000000\">Mean of the integrated profile &lt;= 69.445</text>\n",
       "<text text-anchor=\"middle\" x=\"758\" y=\"-156.8\" font-family=\"Times,serif\" font-size=\"14.00\" fill=\"#000000\">gini = 0.471</text>\n",
       "<text text-anchor=\"middle\" x=\"758\" y=\"-141.8\" font-family=\"Times,serif\" font-size=\"14.00\" fill=\"#000000\">samples = 142</text>\n",
       "<text text-anchor=\"middle\" x=\"758\" y=\"-126.8\" font-family=\"Times,serif\" font-size=\"14.00\" fill=\"#000000\">value = [54, 88]</text>\n",
       "<text text-anchor=\"middle\" x=\"758\" y=\"-111.8\" font-family=\"Times,serif\" font-size=\"14.00\" fill=\"#000000\">class = Pulsar</text>\n",
       "</g>\n",
       "<!-- 8&#45;&gt;9 -->\n",
       "<g id=\"edge9\" class=\"edge\">\n",
       "<title>8&#45;&gt;9</title>\n",
       "<path fill=\"none\" stroke=\"#000000\" d=\"M759.9507,-222.8796C759.7441,-214.6838 759.5249,-205.9891 759.311,-197.5013\"/>\n",
       "<polygon fill=\"#000000\" stroke=\"#000000\" points=\"762.8047,-197.2067 759.0537,-187.2981 755.807,-197.3831 762.8047,-197.2067\"/>\n",
       "</g>\n",
       "<!-- 12 -->\n",
       "<g id=\"node13\" class=\"node\">\n",
       "<title>12</title>\n",
       "<polygon fill=\"none\" stroke=\"#000000\" points=\"1152.5,-187 897.5,-187 897.5,-104 1152.5,-104 1152.5,-187\"/>\n",
       "<text text-anchor=\"middle\" x=\"1025\" y=\"-171.8\" font-family=\"Times,serif\" font-size=\"14.00\" fill=\"#000000\">Skewness of the DM&#45;SNR curve &lt;= &#45;1.745</text>\n",
       "<text text-anchor=\"middle\" x=\"1025\" y=\"-156.8\" font-family=\"Times,serif\" font-size=\"14.00\" fill=\"#000000\">gini = 0.061</text>\n",
       "<text text-anchor=\"middle\" x=\"1025\" y=\"-141.8\" font-family=\"Times,serif\" font-size=\"14.00\" fill=\"#000000\">samples = 960</text>\n",
       "<text text-anchor=\"middle\" x=\"1025\" y=\"-126.8\" font-family=\"Times,serif\" font-size=\"14.00\" fill=\"#000000\">value = [30, 930]</text>\n",
       "<text text-anchor=\"middle\" x=\"1025\" y=\"-111.8\" font-family=\"Times,serif\" font-size=\"14.00\" fill=\"#000000\">class = Pulsar</text>\n",
       "</g>\n",
       "<!-- 8&#45;&gt;12 -->\n",
       "<g id=\"edge12\" class=\"edge\">\n",
       "<title>8&#45;&gt;12</title>\n",
       "<path fill=\"none\" stroke=\"#000000\" d=\"M853.3344,-222.8796C876.0435,-212.6433 900.4793,-201.6286 923.5911,-191.2108\"/>\n",
       "<polygon fill=\"#000000\" stroke=\"#000000\" points=\"925.0394,-194.3972 932.7177,-187.0969 922.1628,-188.0155 925.0394,-194.3972\"/>\n",
       "</g>\n",
       "<!-- 10 -->\n",
       "<g id=\"node11\" class=\"node\">\n",
       "<title>10</title>\n",
       "<polygon fill=\"none\" stroke=\"#000000\" points=\"772.5,-68 659.5,-68 659.5,0 772.5,0 772.5,-68\"/>\n",
       "<text text-anchor=\"middle\" x=\"716\" y=\"-52.8\" font-family=\"Times,serif\" font-size=\"14.00\" fill=\"#000000\">gini = 0.0</text>\n",
       "<text text-anchor=\"middle\" x=\"716\" y=\"-37.8\" font-family=\"Times,serif\" font-size=\"14.00\" fill=\"#000000\">samples = 13</text>\n",
       "<text text-anchor=\"middle\" x=\"716\" y=\"-22.8\" font-family=\"Times,serif\" font-size=\"14.00\" fill=\"#000000\">value = [13, 0]</text>\n",
       "<text text-anchor=\"middle\" x=\"716\" y=\"-7.8\" font-family=\"Times,serif\" font-size=\"14.00\" fill=\"#000000\">class = No Pulsar</text>\n",
       "</g>\n",
       "<!-- 9&#45;&gt;10 -->\n",
       "<g id=\"edge10\" class=\"edge\">\n",
       "<title>9&#45;&gt;10</title>\n",
       "<path fill=\"none\" stroke=\"#000000\" d=\"M742.3608,-103.9815C739.1411,-95.4342 735.7413,-86.4086 732.4926,-77.7839\"/>\n",
       "<polygon fill=\"#000000\" stroke=\"#000000\" points=\"735.7069,-76.388 728.9065,-68.2637 729.1562,-78.8556 735.7069,-76.388\"/>\n",
       "</g>\n",
       "<!-- 11 -->\n",
       "<g id=\"node12\" class=\"node\">\n",
       "<title>11</title>\n",
       "<polygon fill=\"none\" stroke=\"#000000\" points=\"895.5,-68 790.5,-68 790.5,0 895.5,0 895.5,-68\"/>\n",
       "<text text-anchor=\"middle\" x=\"843\" y=\"-52.8\" font-family=\"Times,serif\" font-size=\"14.00\" fill=\"#000000\">gini = 0.434</text>\n",
       "<text text-anchor=\"middle\" x=\"843\" y=\"-37.8\" font-family=\"Times,serif\" font-size=\"14.00\" fill=\"#000000\">samples = 129</text>\n",
       "<text text-anchor=\"middle\" x=\"843\" y=\"-22.8\" font-family=\"Times,serif\" font-size=\"14.00\" fill=\"#000000\">value = [41, 88]</text>\n",
       "<text text-anchor=\"middle\" x=\"843\" y=\"-7.8\" font-family=\"Times,serif\" font-size=\"14.00\" fill=\"#000000\">class = Pulsar</text>\n",
       "</g>\n",
       "<!-- 9&#45;&gt;11 -->\n",
       "<g id=\"edge11\" class=\"edge\">\n",
       "<title>9&#45;&gt;11</title>\n",
       "<path fill=\"none\" stroke=\"#000000\" d=\"M789.6509,-103.9815C796.5171,-94.9747 803.7882,-85.4367 810.6798,-76.3965\"/>\n",
       "<polygon fill=\"#000000\" stroke=\"#000000\" points=\"813.6005,-78.3383 816.8797,-68.2637 808.0336,-74.0945 813.6005,-78.3383\"/>\n",
       "</g>\n",
       "<!-- 13 -->\n",
       "<g id=\"node14\" class=\"node\">\n",
       "<title>13</title>\n",
       "<polygon fill=\"none\" stroke=\"#000000\" points=\"1050.5,-68 937.5,-68 937.5,0 1050.5,0 1050.5,-68\"/>\n",
       "<text text-anchor=\"middle\" x=\"994\" y=\"-52.8\" font-family=\"Times,serif\" font-size=\"14.00\" fill=\"#000000\">gini = 0.375</text>\n",
       "<text text-anchor=\"middle\" x=\"994\" y=\"-37.8\" font-family=\"Times,serif\" font-size=\"14.00\" fill=\"#000000\">samples = 4</text>\n",
       "<text text-anchor=\"middle\" x=\"994\" y=\"-22.8\" font-family=\"Times,serif\" font-size=\"14.00\" fill=\"#000000\">value = [3, 1]</text>\n",
       "<text text-anchor=\"middle\" x=\"994\" y=\"-7.8\" font-family=\"Times,serif\" font-size=\"14.00\" fill=\"#000000\">class = No Pulsar</text>\n",
       "</g>\n",
       "<!-- 12&#45;&gt;13 -->\n",
       "<g id=\"edge13\" class=\"edge\">\n",
       "<title>12&#45;&gt;13</title>\n",
       "<path fill=\"none\" stroke=\"#000000\" d=\"M1013.4567,-103.9815C1011.1059,-95.5261 1008.6249,-86.6026 1006.2505,-78.0623\"/>\n",
       "<polygon fill=\"#000000\" stroke=\"#000000\" points=\"1009.5771,-76.9607 1003.5262,-68.2637 1002.8329,-78.8358 1009.5771,-76.9607\"/>\n",
       "</g>\n",
       "<!-- 14 -->\n",
       "<g id=\"node15\" class=\"node\">\n",
       "<title>14</title>\n",
       "<polygon fill=\"none\" stroke=\"#000000\" points=\"1181,-68 1069,-68 1069,0 1181,0 1181,-68\"/>\n",
       "<text text-anchor=\"middle\" x=\"1125\" y=\"-52.8\" font-family=\"Times,serif\" font-size=\"14.00\" fill=\"#000000\">gini = 0.055</text>\n",
       "<text text-anchor=\"middle\" x=\"1125\" y=\"-37.8\" font-family=\"Times,serif\" font-size=\"14.00\" fill=\"#000000\">samples = 956</text>\n",
       "<text text-anchor=\"middle\" x=\"1125\" y=\"-22.8\" font-family=\"Times,serif\" font-size=\"14.00\" fill=\"#000000\">value = [27, 929]</text>\n",
       "<text text-anchor=\"middle\" x=\"1125\" y=\"-7.8\" font-family=\"Times,serif\" font-size=\"14.00\" fill=\"#000000\">class = Pulsar</text>\n",
       "</g>\n",
       "<!-- 12&#45;&gt;14 -->\n",
       "<g id=\"edge14\" class=\"edge\">\n",
       "<title>12&#45;&gt;14</title>\n",
       "<path fill=\"none\" stroke=\"#000000\" d=\"M1062.2363,-103.9815C1070.4791,-94.7908 1079.2178,-85.0472 1087.4721,-75.8436\"/>\n",
       "<polygon fill=\"#000000\" stroke=\"#000000\" points=\"1090.1991,-78.0451 1094.2702,-68.2637 1084.9879,-73.3714 1090.1991,-78.0451\"/>\n",
       "</g>\n",
       "</g>\n",
       "</svg>\n"
      ],
      "text/plain": [
       "<graphviz.files.Source at 0x7f90e5939940>"
      ]
     },
     "execution_count": 22,
     "metadata": {},
     "output_type": "execute_result"
    }
   ],
   "source": [
    "#graficaremos el Arbol usando graphviz\n",
    "\n",
    "import graphviz \n",
    "from sklearn import tree\n",
    "\n",
    "dot_data = tree.export_graphviz(decision_tree, out_file=None)\n",
    "graph = graphviz.Source(dot_data) \n",
    "\n",
    "dot_data = tree.export_graphviz(decision_tree, \\\n",
    "                                out_file=None,\n",
    "                               feature_names = features,\\\n",
    "                               class_names = [\"No Pulsar\", \"Pulsar\"],\\\n",
    "                               label = 'all') \n",
    "graph = graphviz.Source(dot_data)  \n",
    "graph"
   ]
  },
  {
   "attachments": {
    "image.png": {
     "image/png": "[encoded data removed]"
    }
   },
   "cell_type": "markdown",
   "metadata": {},
   "source": [
    "# 4. Regresion Lineal\n",
    "\n",
    "A continuacion describiremos este metodo como lo hace la referencia [6]\n",
    "\n",
    "La regresión es una forma estadística de establecer una relación entre una variable dependiente y un conjunto de variables independientes.\n",
    "\n",
    "Es un enfoque muy simple para el aprendizaje supervisado. Aunque puede parecer algo aburrido en comparación con algunos de los algoritmos más modernos, este algoritmo sigue siendo un método de aprendizaje estadístico útil y ampliamente utilizado.\n",
    "\n",
    "La regresión lineal o linear regression es un método para predecir la variable dependiente (y) en función de los valores de las variables independientes (X). Se puede usar para los casos donde queremos predecir alguna cantidad continua\n",
    "\n",
    "Variables independientes (características): es una variable que se manipula para determinar el valor de una variable dependiente. Simplemente, son las características que queremos usar para predecir algún valor dado de y.\n",
    "\n",
    "Variable dependiente (objetivo): la variable dependiente depende de los valores de la variable independiente. En pocas palabras, es la característica que estamos tratando de predecir. Esto también se puede conocer comúnmente como una variable de respuesta.\n",
    "\n",
    "![image.png](attachment:image.png)\n",
    "\n",
    "Aprendizaje Supervisado: Linear RegressionEste algoritmo consiste en hallar una línea recta que mejor encaje en un conjunto de datos dados, este conjunto de datos comprende las variables independientes e dependiente. Para esto podremos utilizar métodos matemáticos como el de los mínimos cuadrados, para buscar minimizar la distancia vertical de todos los puntos a la línea recta.\n",
    "\n",
    "Una vez obtenida esta línea recta, seremos capaces de hacer predicciones hipotéticas sobre cuál será el valor de “y” dado “X”.\n",
    "\n",
    "![image.png](attachment:image.png)\n",
    "\n",
    "Aprendizaje Supervisado: Linear Regression\n",
    "\n",
    "Para ajustar una línea de regresión lineal, los datos deben satisfacer algunas suposiciones básicas pero importantes, si sus datos no siguen los suposiciones, sus resultados pueden ser incorrectos y engañosos\n"
   ]
  },
  {
   "cell_type": "code",
   "execution_count": 23,
   "metadata": {},
   "outputs": [
    {
     "name": "stdout",
     "output_type": "stream",
     "text": [
      "Training Score: 0.6878553037384595\n",
      "Test Score: 0.6687464902489617\n"
     ]
    }
   ],
   "source": [
    "from sklearn import datasets, linear_model\n",
    "\n",
    "# Modelo Lineal\n",
    "lm = linear_model.LinearRegression()\n",
    "\n",
    "# Fit the model using x_train as training data and y_train as target values\n",
    "model = lm.fit(x_train, y_train)\n",
    "\n",
    "# Predict the output with the test set as input\n",
    "predicciones = lm.predict(x_test)\n",
    "print (\"Training Score:\", model.score(x_train, y_train))\n",
    "print (\"Test Score:\", model.score(x_test, y_test))"
   ]
  },
  {
   "cell_type": "code",
   "execution_count": 24,
   "metadata": {
    "scrolled": true
   },
   "outputs": [
    {
     "data": {
      "image/png": "[encoded data removed]",
      "text/plain": [
       "<Figure size 432x288 with 1 Axes>"
      ]
     },
     "metadata": {
      "needs_background": "light"
     },
     "output_type": "display_data"
    }
   ],
   "source": [
    "# Graficar los Resultados\n",
    "\n",
    "plt.scatter(y_test, predicciones, color='red')\n",
    "plt.xlabel(\"Valores Si/No\")\n",
    "plt.ylabel(\"Prediccion\")\n",
    "plt.title(\"Predicciones VRS Valores Si/No\")\n",
    "plt.grid(b=1)\n",
    "plt.show()\n",
    "\n",
    "#Note que los valores son discretos, es Pulsar o No Pulsar, por lo que no tendremos una linea recta graficada en este caso"
   ]
  },
  {
   "cell_type": "markdown",
   "metadata": {},
   "source": [
    "# BOOSTING ALGORITHMS (ENSAMBLE)\n",
    "\n",
    "El impulso de los algoritmos de conjunto crea una secuencia de modelos que intentan corregir los errores de los modelos anteriores a ellos en la secuencia.\n",
    "\n",
    "Una vez creados, los modelos hacen predicciones que pueden ser ponderadas por su precisión demostrada y los resultados se combinan para crear una predicción de salida final.\n",
    "\n",
    "Los dos algoritmos de aprendizaje automático por conjuntos más comunes son:\n",
    "\n",
    "    1. AdaBoost\n",
    "    2. Stochastic Gradient Boosting [3]"
   ]
  },
  {
   "cell_type": "markdown",
   "metadata": {},
   "source": [
    "# 5. Stochastic Gradient Boosting\n",
    "\n",
    "El aumento de gradiente estocástico (también llamado máquinas de aumento de gradiente) es una de las técnicas de conjunto más sofisticadas. También es una técnica que está demostrando ser tal vez una de las mejores técnicas disponibles para mejorar el rendimiento a través de conjuntos.\n",
    "\n",
    "Puede construir un modelo de Gradient Boosting para la clasificación utilizando la clase GradientBoostingClassifier.\n",
    "\n",
    "El siguiente ejemplo muestra el aumento de gradiente estocástico para la clasificación con 100 árboles[3]"
   ]
  },
  {
   "cell_type": "code",
   "execution_count": 20,
   "metadata": {},
   "outputs": [
    {
     "name": "stdout",
     "output_type": "stream",
     "text": [
      "Training Score: 0.9792892549877766\n",
      "Test Score: 0.9727393935762226\n"
     ]
    }
   ],
   "source": [
    "from sklearn import model_selection\n",
    "from sklearn.ensemble import GradientBoostingClassifier\n",
    "\n",
    "seed = 7\n",
    "num_trees = 100\n",
    "kfold = model_selection.KFold(n_splits=10, random_state=seed)\n",
    "model = GradientBoostingClassifier(n_estimators=num_trees, random_state=seed)\n",
    "results_train = model_selection.cross_val_score(model, x_train, y_train, cv=kfold)\n",
    "results_test = model_selection.cross_val_score(model, x_test, y_test, cv=kfold)\n",
    "print(\"Training Score:\",results_train.mean())\n",
    "print(\"Test Score:\",results_test.mean())\n"
   ]
  },
  {
   "cell_type": "markdown",
   "metadata": {},
   "source": [
    "# Voting Ensemble\n",
    "\n",
    "Es una de las formas más simples de combinar las predicciones de múltiples algoritmos de aprendizaje automático.\n",
    "\n",
    "Funciona creando primero dos o más modelos independientes a partir de su conjunto de datos de entrenamiento. Luego se puede usar un clasificador de votación para envolver sus modelos y promediar las predicciones de los submodelos cuando se le pide que haga predicciones para nuevos datos.\n",
    "\n",
    "Las predicciones de los submodelos pueden ponderarse, pero es difícil especificar los pesos de los clasificadores de forma manual o incluso heurística. Los métodos más avanzados pueden aprender cómo ponderar mejor las predicciones de los submodelos, pero esto se llama apilado (agregación apilada) y actualmente no se proporciona en scikit-learn.\n",
    "\n",
    "Puede crear un modelo de conjunto de votación para la clasificación utilizando la clase VotingClassifier.\n",
    "\n",
    "El siguiente código proporciona un ejemplo de combinación de las predicciones de regresión logística, clasificación y árboles de regresión y máquinas de vectores de soporte para un problema de clasificación [3]"
   ]
  },
  {
   "cell_type": "code",
   "execution_count": 21,
   "metadata": {},
   "outputs": [
    {
     "name": "stderr",
     "output_type": "stream",
     "text": [
      "/home/guille/miniconda3/envs/py3/lib/python3.7/site-packages/sklearn/linear_model/logistic.py:433: FutureWarning: Default solver will be changed to 'lbfgs' in 0.22. Specify a solver to silence this warning.\n",
      "  FutureWarning)\n",
      "/home/guille/miniconda3/envs/py3/lib/python3.7/site-packages/sklearn/svm/base.py:196: FutureWarning: The default value of gamma will change from 'auto' to 'scale' in version 0.22 to account better for unscaled features. Set gamma explicitly to 'auto' or 'scale' to avoid this warning.\n",
      "  \"avoid this warning.\", FutureWarning)\n",
      "/home/guille/miniconda3/envs/py3/lib/python3.7/site-packages/sklearn/linear_model/logistic.py:433: FutureWarning: Default solver will be changed to 'lbfgs' in 0.22. Specify a solver to silence this warning.\n",
      "  FutureWarning)\n",
      "/home/guille/miniconda3/envs/py3/lib/python3.7/site-packages/sklearn/svm/base.py:196: FutureWarning: The default value of gamma will change from 'auto' to 'scale' in version 0.22 to account better for unscaled features. Set gamma explicitly to 'auto' or 'scale' to avoid this warning.\n",
      "  \"avoid this warning.\", FutureWarning)\n",
      "/home/guille/miniconda3/envs/py3/lib/python3.7/site-packages/sklearn/linear_model/logistic.py:433: FutureWarning: Default solver will be changed to 'lbfgs' in 0.22. Specify a solver to silence this warning.\n",
      "  FutureWarning)\n",
      "/home/guille/miniconda3/envs/py3/lib/python3.7/site-packages/sklearn/svm/base.py:196: FutureWarning: The default value of gamma will change from 'auto' to 'scale' in version 0.22 to account better for unscaled features. Set gamma explicitly to 'auto' or 'scale' to avoid this warning.\n",
      "  \"avoid this warning.\", FutureWarning)\n",
      "/home/guille/miniconda3/envs/py3/lib/python3.7/site-packages/sklearn/linear_model/logistic.py:433: FutureWarning: Default solver will be changed to 'lbfgs' in 0.22. Specify a solver to silence this warning.\n",
      "  FutureWarning)\n",
      "/home/guille/miniconda3/envs/py3/lib/python3.7/site-packages/sklearn/svm/base.py:196: FutureWarning: The default value of gamma will change from 'auto' to 'scale' in version 0.22 to account better for unscaled features. Set gamma explicitly to 'auto' or 'scale' to avoid this warning.\n",
      "  \"avoid this warning.\", FutureWarning)\n",
      "/home/guille/miniconda3/envs/py3/lib/python3.7/site-packages/sklearn/linear_model/logistic.py:433: FutureWarning: Default solver will be changed to 'lbfgs' in 0.22. Specify a solver to silence this warning.\n",
      "  FutureWarning)\n",
      "/home/guille/miniconda3/envs/py3/lib/python3.7/site-packages/sklearn/svm/base.py:196: FutureWarning: The default value of gamma will change from 'auto' to 'scale' in version 0.22 to account better for unscaled features. Set gamma explicitly to 'auto' or 'scale' to avoid this warning.\n",
      "  \"avoid this warning.\", FutureWarning)\n",
      "/home/guille/miniconda3/envs/py3/lib/python3.7/site-packages/sklearn/linear_model/logistic.py:433: FutureWarning: Default solver will be changed to 'lbfgs' in 0.22. Specify a solver to silence this warning.\n",
      "  FutureWarning)\n",
      "/home/guille/miniconda3/envs/py3/lib/python3.7/site-packages/sklearn/svm/base.py:196: FutureWarning: The default value of gamma will change from 'auto' to 'scale' in version 0.22 to account better for unscaled features. Set gamma explicitly to 'auto' or 'scale' to avoid this warning.\n",
      "  \"avoid this warning.\", FutureWarning)\n",
      "/home/guille/miniconda3/envs/py3/lib/python3.7/site-packages/sklearn/linear_model/logistic.py:433: FutureWarning: Default solver will be changed to 'lbfgs' in 0.22. Specify a solver to silence this warning.\n",
      "  FutureWarning)\n",
      "/home/guille/miniconda3/envs/py3/lib/python3.7/site-packages/sklearn/svm/base.py:196: FutureWarning: The default value of gamma will change from 'auto' to 'scale' in version 0.22 to account better for unscaled features. Set gamma explicitly to 'auto' or 'scale' to avoid this warning.\n",
      "  \"avoid this warning.\", FutureWarning)\n",
      "/home/guille/miniconda3/envs/py3/lib/python3.7/site-packages/sklearn/linear_model/logistic.py:433: FutureWarning: Default solver will be changed to 'lbfgs' in 0.22. Specify a solver to silence this warning.\n",
      "  FutureWarning)\n",
      "/home/guille/miniconda3/envs/py3/lib/python3.7/site-packages/sklearn/svm/base.py:196: FutureWarning: The default value of gamma will change from 'auto' to 'scale' in version 0.22 to account better for unscaled features. Set gamma explicitly to 'auto' or 'scale' to avoid this warning.\n",
      "  \"avoid this warning.\", FutureWarning)\n",
      "/home/guille/miniconda3/envs/py3/lib/python3.7/site-packages/sklearn/linear_model/logistic.py:433: FutureWarning: Default solver will be changed to 'lbfgs' in 0.22. Specify a solver to silence this warning.\n",
      "  FutureWarning)\n",
      "/home/guille/miniconda3/envs/py3/lib/python3.7/site-packages/sklearn/svm/base.py:196: FutureWarning: The default value of gamma will change from 'auto' to 'scale' in version 0.22 to account better for unscaled features. Set gamma explicitly to 'auto' or 'scale' to avoid this warning.\n",
      "  \"avoid this warning.\", FutureWarning)\n",
      "/home/guille/miniconda3/envs/py3/lib/python3.7/site-packages/sklearn/linear_model/logistic.py:433: FutureWarning: Default solver will be changed to 'lbfgs' in 0.22. Specify a solver to silence this warning.\n",
      "  FutureWarning)\n",
      "/home/guille/miniconda3/envs/py3/lib/python3.7/site-packages/sklearn/svm/base.py:196: FutureWarning: The default value of gamma will change from 'auto' to 'scale' in version 0.22 to account better for unscaled features. Set gamma explicitly to 'auto' or 'scale' to avoid this warning.\n",
      "  \"avoid this warning.\", FutureWarning)\n",
      "/home/guille/miniconda3/envs/py3/lib/python3.7/site-packages/sklearn/linear_model/logistic.py:433: FutureWarning: Default solver will be changed to 'lbfgs' in 0.22. Specify a solver to silence this warning.\n",
      "  FutureWarning)\n",
      "/home/guille/miniconda3/envs/py3/lib/python3.7/site-packages/sklearn/svm/base.py:196: FutureWarning: The default value of gamma will change from 'auto' to 'scale' in version 0.22 to account better for unscaled features. Set gamma explicitly to 'auto' or 'scale' to avoid this warning.\n",
      "  \"avoid this warning.\", FutureWarning)\n",
      "/home/guille/miniconda3/envs/py3/lib/python3.7/site-packages/sklearn/linear_model/logistic.py:433: FutureWarning: Default solver will be changed to 'lbfgs' in 0.22. Specify a solver to silence this warning.\n",
      "  FutureWarning)\n",
      "/home/guille/miniconda3/envs/py3/lib/python3.7/site-packages/sklearn/svm/base.py:196: FutureWarning: The default value of gamma will change from 'auto' to 'scale' in version 0.22 to account better for unscaled features. Set gamma explicitly to 'auto' or 'scale' to avoid this warning.\n",
      "  \"avoid this warning.\", FutureWarning)\n",
      "/home/guille/miniconda3/envs/py3/lib/python3.7/site-packages/sklearn/linear_model/logistic.py:433: FutureWarning: Default solver will be changed to 'lbfgs' in 0.22. Specify a solver to silence this warning.\n",
      "  FutureWarning)\n",
      "/home/guille/miniconda3/envs/py3/lib/python3.7/site-packages/sklearn/svm/base.py:196: FutureWarning: The default value of gamma will change from 'auto' to 'scale' in version 0.22 to account better for unscaled features. Set gamma explicitly to 'auto' or 'scale' to avoid this warning.\n",
      "  \"avoid this warning.\", FutureWarning)\n",
      "/home/guille/miniconda3/envs/py3/lib/python3.7/site-packages/sklearn/linear_model/logistic.py:433: FutureWarning: Default solver will be changed to 'lbfgs' in 0.22. Specify a solver to silence this warning.\n",
      "  FutureWarning)\n",
      "/home/guille/miniconda3/envs/py3/lib/python3.7/site-packages/sklearn/svm/base.py:196: FutureWarning: The default value of gamma will change from 'auto' to 'scale' in version 0.22 to account better for unscaled features. Set gamma explicitly to 'auto' or 'scale' to avoid this warning.\n",
      "  \"avoid this warning.\", FutureWarning)\n",
      "/home/guille/miniconda3/envs/py3/lib/python3.7/site-packages/sklearn/linear_model/logistic.py:433: FutureWarning: Default solver will be changed to 'lbfgs' in 0.22. Specify a solver to silence this warning.\n",
      "  FutureWarning)\n",
      "/home/guille/miniconda3/envs/py3/lib/python3.7/site-packages/sklearn/svm/base.py:196: FutureWarning: The default value of gamma will change from 'auto' to 'scale' in version 0.22 to account better for unscaled features. Set gamma explicitly to 'auto' or 'scale' to avoid this warning.\n",
      "  \"avoid this warning.\", FutureWarning)\n"
     ]
    },
    {
     "name": "stderr",
     "output_type": "stream",
     "text": [
      "/home/guille/miniconda3/envs/py3/lib/python3.7/site-packages/sklearn/linear_model/logistic.py:433: FutureWarning: Default solver will be changed to 'lbfgs' in 0.22. Specify a solver to silence this warning.\n",
      "  FutureWarning)\n",
      "/home/guille/miniconda3/envs/py3/lib/python3.7/site-packages/sklearn/svm/base.py:196: FutureWarning: The default value of gamma will change from 'auto' to 'scale' in version 0.22 to account better for unscaled features. Set gamma explicitly to 'auto' or 'scale' to avoid this warning.\n",
      "  \"avoid this warning.\", FutureWarning)\n",
      "/home/guille/miniconda3/envs/py3/lib/python3.7/site-packages/sklearn/linear_model/logistic.py:433: FutureWarning: Default solver will be changed to 'lbfgs' in 0.22. Specify a solver to silence this warning.\n",
      "  FutureWarning)\n",
      "/home/guille/miniconda3/envs/py3/lib/python3.7/site-packages/sklearn/svm/base.py:196: FutureWarning: The default value of gamma will change from 'auto' to 'scale' in version 0.22 to account better for unscaled features. Set gamma explicitly to 'auto' or 'scale' to avoid this warning.\n",
      "  \"avoid this warning.\", FutureWarning)\n",
      "/home/guille/miniconda3/envs/py3/lib/python3.7/site-packages/sklearn/linear_model/logistic.py:433: FutureWarning: Default solver will be changed to 'lbfgs' in 0.22. Specify a solver to silence this warning.\n",
      "  FutureWarning)\n",
      "/home/guille/miniconda3/envs/py3/lib/python3.7/site-packages/sklearn/svm/base.py:196: FutureWarning: The default value of gamma will change from 'auto' to 'scale' in version 0.22 to account better for unscaled features. Set gamma explicitly to 'auto' or 'scale' to avoid this warning.\n",
      "  \"avoid this warning.\", FutureWarning)\n",
      "/home/guille/miniconda3/envs/py3/lib/python3.7/site-packages/sklearn/linear_model/logistic.py:433: FutureWarning: Default solver will be changed to 'lbfgs' in 0.22. Specify a solver to silence this warning.\n",
      "  FutureWarning)\n",
      "/home/guille/miniconda3/envs/py3/lib/python3.7/site-packages/sklearn/svm/base.py:196: FutureWarning: The default value of gamma will change from 'auto' to 'scale' in version 0.22 to account better for unscaled features. Set gamma explicitly to 'auto' or 'scale' to avoid this warning.\n",
      "  \"avoid this warning.\", FutureWarning)\n",
      "/home/guille/miniconda3/envs/py3/lib/python3.7/site-packages/sklearn/linear_model/logistic.py:433: FutureWarning: Default solver will be changed to 'lbfgs' in 0.22. Specify a solver to silence this warning.\n",
      "  FutureWarning)\n",
      "/home/guille/miniconda3/envs/py3/lib/python3.7/site-packages/sklearn/svm/base.py:196: FutureWarning: The default value of gamma will change from 'auto' to 'scale' in version 0.22 to account better for unscaled features. Set gamma explicitly to 'auto' or 'scale' to avoid this warning.\n",
      "  \"avoid this warning.\", FutureWarning)\n"
     ]
    },
    {
     "name": "stdout",
     "output_type": "stream",
     "text": [
      "Training Score: 0.9775756170150907\n",
      "Test Score: 0.972966602748482\n"
     ]
    }
   ],
   "source": [
    "import warnings\n",
    "warnings.filterwarnings('ignore', category=UserWarning, append=True)\n",
    "\n",
    "from sklearn import model_selection\n",
    "from sklearn.linear_model import LogisticRegression\n",
    "from sklearn.tree import DecisionTreeClassifier\n",
    "from sklearn.svm import SVC\n",
    "from sklearn.ensemble import VotingClassifier\n",
    "\n",
    "eed = 7\n",
    "kfold = model_selection.KFold(n_splits=10, random_state=seed)\n",
    "# create the sub models\n",
    "estimators = []\n",
    "model1 = LogisticRegression()\n",
    "estimators.append(('logistic', model1))\n",
    "model2 = DecisionTreeClassifier()\n",
    "estimators.append(('cart', model2))\n",
    "model3 = SVC()\n",
    "estimators.append(('svm', model3))\n",
    "# create the ensemble model\n",
    "ensemble = VotingClassifier(estimators)\n",
    "results_train = model_selection.cross_val_score(ensemble, x_train, y_train, cv=kfold)\n",
    "results_test = model_selection.cross_val_score(ensemble, x_test, y_test, cv=kfold)\n",
    " \n",
    "print(\"Training Score:\",results_train.mean())\n",
    "print(\"Test Score:\",results_test.mean())\n"
   ]
  },
  {
   "cell_type": "markdown",
   "metadata": {},
   "source": [
    "# Conclusiones\n",
    "\n",
    "Podemos ver que cada metodo tiene sus ventajas y desventajas.\n",
    "Con la regresion Lineal tuvimos los peores resultados, esto se debe a que es un metodo que se ajusta muy bien cuando la variable es continua, pero en nuestro ejemplo la clasificacion binaria o discreta no nos permite encontrar una curva o linea de mejor ajuste y por lo tanto el metodo carece de validez.\n",
    "\n",
    "Algoritmos como SVM son computacionalmente muy costosos y lo notamos al ver que su tiempo de ejecucion es muy lento.\n",
    "\n",
    "Por otro lado metodos como KNN son faciles de implementar pero sus resultados no son tan buenos como los obtenidos con SVM o el metodo de Stochastic Gradient Boosting o arboles de decision\n",
    "\n",
    "con el metodo de Stochastic Gradient Boosting podemos notar que la diferencia entre el training set y el test set es la mas pequena en comparacion con todos los otros metodos utilizados.\n",
    "\n",
    "sklearn es una poderosa libreria, y con los parametros y atributos correctos podemos aumentar la exactitud de nuestro sistema de aprendizaje supervisado"
   ]
  },
  {
   "cell_type": "markdown",
   "metadata": {},
   "source": [
    "REFERENCIAS\n",
    "\n",
    "[1] https://archive.ics.uci.edu/ml/datasets/HTRU2\n",
    "\n",
    "[2] https://es.wikipedia.org/wiki/M%C3%A1quinas_de_vectores_de_soporte\n",
    "\n",
    "[3] https://machinelearningmastery.com/ensemble-machine-learning-algorithms-python-scikit-learn/\n",
    "\n",
    "[4] https://www.svm-tutorial.com/2014/10/svm-linear-kernel-good-text-classification/\n",
    "\n",
    "[5] https://www.analiticaweb.es/algoritmo-knn-modelado-datos/\n",
    "\n",
    "[6] http://ligdigonzalez.com/aprendizaje-supervisado-linear-regression/\n"
   ]
  },
  {
   "cell_type": "code",
   "execution_count": null,
   "metadata": {},
   "outputs": [],
   "source": []
  }
 ],
 "metadata": {
  "kernelspec": {
   "display_name": "Python 3",
   "language": "python",
   "name": "python3"
  },
  "language_info": {
   "codemirror_mode": {
    "name": "ipython",
    "version": 3
   },
   "file_extension": ".py",
   "mimetype": "text/x-python",
   "name": "python",
   "nbconvert_exporter": "python",
   "pygments_lexer": "ipython3",
   "version": "3.7.2"
  }
 },
 "nbformat": 4,
 "nbformat_minor": 2
}
